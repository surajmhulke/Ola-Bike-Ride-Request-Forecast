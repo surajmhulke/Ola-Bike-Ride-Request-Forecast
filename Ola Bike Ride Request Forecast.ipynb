{
 "cells": [
  {
   "cell_type": "code",
   "execution_count": 1,
   "id": "aadf6f41",
   "metadata": {
    "execution": {
     "iopub.execute_input": "2023-09-17T13:18:47.974304Z",
     "iopub.status.busy": "2023-09-17T13:18:47.973801Z",
     "iopub.status.idle": "2023-09-17T13:18:54.011981Z",
     "shell.execute_reply": "2023-09-17T13:18:54.011059Z"
    },
    "papermill": {
     "duration": 6.053606,
     "end_time": "2023-09-17T13:18:54.014716",
     "exception": false,
     "start_time": "2023-09-17T13:18:47.961110",
     "status": "completed"
    },
    "tags": []
   },
   "outputs": [],
   "source": [
    "import pandas as pd\n",
    "from datetime import datetime\n",
    "df_train = pd.read_csv(r'C:\\Users\\pc\\Desktop\\Ola Bike Ride Request Forecast\\test.csv', dtype = 'str')\n",
    "df_test = pd.read_csv(r'C:\\Users\\pc\\Desktop\\Ola Bike Ride Request Forecast\\train.csv', dtype = 'str')"
   ]
  },
  {
   "cell_type": "markdown",
   "id": "e44c082b",
   "metadata": {
    "papermill": {
     "duration": 0.010869,
     "end_time": "2023-09-17T13:18:54.037062",
     "exception": false,
     "start_time": "2023-09-17T13:18:54.026193",
     "status": "completed"
    },
    "tags": []
   },
   "source": [
    "Cleaning cols Names"
   ]
  },
  {
   "cell_type": "code",
   "execution_count": 2,
   "id": "11c8984c",
   "metadata": {
    "execution": {
     "iopub.execute_input": "2023-09-17T13:18:54.061651Z",
     "iopub.status.busy": "2023-09-17T13:18:54.060586Z",
     "iopub.status.idle": "2023-09-17T13:19:00.050443Z",
     "shell.execute_reply": "2023-09-17T13:19:00.049150Z"
    },
    "papermill": {
     "duration": 6.005169,
     "end_time": "2023-09-17T13:19:00.053347",
     "exception": false,
     "start_time": "2023-09-17T13:18:54.048178",
     "status": "completed"
    },
    "tags": []
   },
   "outputs": [],
   "source": [
    "for i in df_train.columns:\n",
    "    df_train = df_train.rename(columns = {i:i.replace(\"+AF8-\",\"_\")})\n"
   ]
  },
  {
   "cell_type": "code",
   "execution_count": 3,
   "id": "48a63856",
   "metadata": {
    "execution": {
     "iopub.execute_input": "2023-09-17T13:19:00.078428Z",
     "iopub.status.busy": "2023-09-17T13:19:00.078012Z",
     "iopub.status.idle": "2023-09-17T13:19:00.084154Z",
     "shell.execute_reply": "2023-09-17T13:19:00.082984Z"
    },
    "papermill": {
     "duration": 0.021712,
     "end_time": "2023-09-17T13:19:00.086899",
     "exception": false,
     "start_time": "2023-09-17T13:19:00.065187",
     "status": "completed"
    },
    "tags": []
   },
   "outputs": [
    {
     "name": "stdout",
     "output_type": "stream",
     "text": [
      "Index(['ID', 'vendor_id', 'pickup_loc', 'drop_loc', 'driver_tip', 'mta_tax',\n",
      "       'distance', 'pickup_time', 'drop_time', 'num_passengers', 'toll_amount',\n",
      "       'payment_method', 'rate_code', 'stored_flag', 'extra_charges',\n",
      "       'improvement_charge'],\n",
      "      dtype='object') Index(['ID', 'vendor+AF8-id', 'pickup+AF8-loc', 'drop+AF8-loc',\n",
      "       'driver+AF8-tip', 'mta+AF8-tax', 'distance', 'pickup+AF8-time',\n",
      "       'drop+AF8-time', 'num+AF8-passengers', 'toll+AF8-amount',\n",
      "       'payment+AF8-method', 'rate+AF8-code', 'stored+AF8-flag',\n",
      "       'extra+AF8-charges', 'improvement+AF8-charge', 'total+AF8-amount'],\n",
      "      dtype='object')\n"
     ]
    }
   ],
   "source": [
    "print(df_train.columns,df_test.columns)"
   ]
  },
  {
   "cell_type": "code",
   "execution_count": 4,
   "id": "2d3b7ae1",
   "metadata": {
    "execution": {
     "iopub.execute_input": "2023-09-17T13:19:00.111823Z",
     "iopub.status.busy": "2023-09-17T13:19:00.111139Z",
     "iopub.status.idle": "2023-09-17T13:19:00.143900Z",
     "shell.execute_reply": "2023-09-17T13:19:00.142541Z"
    },
    "papermill": {
     "duration": 0.048425,
     "end_time": "2023-09-17T13:19:00.146805",
     "exception": false,
     "start_time": "2023-09-17T13:19:00.098380",
     "status": "completed"
    },
    "tags": []
   },
   "outputs": [
    {
     "data": {
      "text/html": [
       "<div>\n",
       "<style scoped>\n",
       "    .dataframe tbody tr th:only-of-type {\n",
       "        vertical-align: middle;\n",
       "    }\n",
       "\n",
       "    .dataframe tbody tr th {\n",
       "        vertical-align: top;\n",
       "    }\n",
       "\n",
       "    .dataframe thead th {\n",
       "        text-align: right;\n",
       "    }\n",
       "</style>\n",
       "<table border=\"1\" class=\"dataframe\">\n",
       "  <thead>\n",
       "    <tr style=\"text-align: right;\">\n",
       "      <th></th>\n",
       "      <th>ID</th>\n",
       "      <th>vendor_id</th>\n",
       "      <th>pickup_loc</th>\n",
       "      <th>drop_loc</th>\n",
       "      <th>driver_tip</th>\n",
       "      <th>mta_tax</th>\n",
       "      <th>distance</th>\n",
       "      <th>pickup_time</th>\n",
       "      <th>drop_time</th>\n",
       "      <th>num_passengers</th>\n",
       "      <th>toll_amount</th>\n",
       "      <th>payment_method</th>\n",
       "      <th>rate_code</th>\n",
       "      <th>stored_flag</th>\n",
       "      <th>extra_charges</th>\n",
       "      <th>improvement_charge</th>\n",
       "    </tr>\n",
       "  </thead>\n",
       "  <tbody>\n",
       "    <tr>\n",
       "      <th>0</th>\n",
       "      <td>0</td>\n",
       "      <td>1</td>\n",
       "      <td>68.0</td>\n",
       "      <td>186.0</td>\n",
       "      <td>1.0</td>\n",
       "      <td>0.5</td>\n",
       "      <td>0.7</td>\n",
       "      <td>04/05/2017 05:49:46 AM</td>\n",
       "      <td>04/05/2017 05:54:03 AM</td>\n",
       "      <td>1.0</td>\n",
       "      <td>0.0</td>\n",
       "      <td>1.0</td>\n",
       "      <td>1.0</td>\n",
       "      <td>N</td>\n",
       "      <td>0.5</td>\n",
       "      <td>0.3</td>\n",
       "    </tr>\n",
       "    <tr>\n",
       "      <th>1</th>\n",
       "      <td>1</td>\n",
       "      <td>1</td>\n",
       "      <td>170.0</td>\n",
       "      <td>161.0</td>\n",
       "      <td>2.55</td>\n",
       "      <td>0.5</td>\n",
       "      <td>1.0</td>\n",
       "      <td>04/07/2017 08:57:27 AM</td>\n",
       "      <td>04/07/2017 09:16:00 AM</td>\n",
       "      <td>1.0</td>\n",
       "      <td>0.0</td>\n",
       "      <td>1.0</td>\n",
       "      <td>1.0</td>\n",
       "      <td>N</td>\n",
       "      <td>0.0</td>\n",
       "      <td>0.3</td>\n",
       "    </tr>\n",
       "    <tr>\n",
       "      <th>2</th>\n",
       "      <td>2</td>\n",
       "      <td>2</td>\n",
       "      <td>13.0</td>\n",
       "      <td>246.0</td>\n",
       "      <td>2.96</td>\n",
       "      <td>0.5</td>\n",
       "      <td>3.35</td>\n",
       "      <td>04/06/2017 08:06:41 AM</td>\n",
       "      <td>04/06/2017 08:21:33 AM</td>\n",
       "      <td>2.0</td>\n",
       "      <td>0.0</td>\n",
       "      <td>1.0</td>\n",
       "      <td>1.0</td>\n",
       "      <td>N</td>\n",
       "      <td>0.0</td>\n",
       "      <td>0.3</td>\n",
       "    </tr>\n",
       "    <tr>\n",
       "      <th>3</th>\n",
       "      <td>3</td>\n",
       "      <td>1</td>\n",
       "      <td>170.0</td>\n",
       "      <td>233.0</td>\n",
       "      <td>2.0</td>\n",
       "      <td>0.5</td>\n",
       "      <td>0.8</td>\n",
       "      <td>04/04/2017 08:31:34 AM</td>\n",
       "      <td>04/04/2017 08:37:21 AM</td>\n",
       "      <td>2.0</td>\n",
       "      <td>0.0</td>\n",
       "      <td>1.0</td>\n",
       "      <td>1.0</td>\n",
       "      <td>N</td>\n",
       "      <td>0.0</td>\n",
       "      <td>0.3</td>\n",
       "    </tr>\n",
       "    <tr>\n",
       "      <th>4</th>\n",
       "      <td>4</td>\n",
       "      <td>1</td>\n",
       "      <td>237.0</td>\n",
       "      <td>236.0</td>\n",
       "      <td>1.0</td>\n",
       "      <td>0.5</td>\n",
       "      <td>0.7</td>\n",
       "      <td>04/07/2017 10:54:06 AM</td>\n",
       "      <td>04/07/2017 11:00:59 AM</td>\n",
       "      <td>1.0</td>\n",
       "      <td>0.0</td>\n",
       "      <td>1.0</td>\n",
       "      <td>1.0</td>\n",
       "      <td>Y</td>\n",
       "      <td>0.0</td>\n",
       "      <td>0.3</td>\n",
       "    </tr>\n",
       "    <tr>\n",
       "      <th>...</th>\n",
       "      <td>...</td>\n",
       "      <td>...</td>\n",
       "      <td>...</td>\n",
       "      <td>...</td>\n",
       "      <td>...</td>\n",
       "      <td>...</td>\n",
       "      <td>...</td>\n",
       "      <td>...</td>\n",
       "      <td>...</td>\n",
       "      <td>...</td>\n",
       "      <td>...</td>\n",
       "      <td>...</td>\n",
       "      <td>...</td>\n",
       "      <td>...</td>\n",
       "      <td>...</td>\n",
       "      <td>...</td>\n",
       "    </tr>\n",
       "    <tr>\n",
       "      <th>154230</th>\n",
       "      <td>154230</td>\n",
       "      <td>2</td>\n",
       "      <td>234.0</td>\n",
       "      <td>161.0</td>\n",
       "      <td>2.56</td>\n",
       "      <td>0.5</td>\n",
       "      <td>1.47</td>\n",
       "      <td>04/05/2017 07:17:29 PM</td>\n",
       "      <td>04/05/2017 07:33:29 PM</td>\n",
       "      <td>6.0</td>\n",
       "      <td>0.0</td>\n",
       "      <td>1.0</td>\n",
       "      <td>1.0</td>\n",
       "      <td>N</td>\n",
       "      <td>1.0</td>\n",
       "      <td>0.3</td>\n",
       "    </tr>\n",
       "    <tr>\n",
       "      <th>154231</th>\n",
       "      <td>154231</td>\n",
       "      <td>1</td>\n",
       "      <td>141.0</td>\n",
       "      <td>236.0</td>\n",
       "      <td>1.0</td>\n",
       "      <td>0.5</td>\n",
       "      <td>1.1</td>\n",
       "      <td>04/05/2017 01:02:10 PM</td>\n",
       "      <td>04/05/2017 01:09:10 PM</td>\n",
       "      <td>2.0</td>\n",
       "      <td>0.0</td>\n",
       "      <td>1.0</td>\n",
       "      <td>1.0</td>\n",
       "      <td>N</td>\n",
       "      <td>0.0</td>\n",
       "      <td>0.3</td>\n",
       "    </tr>\n",
       "    <tr>\n",
       "      <th>154232</th>\n",
       "      <td>154232</td>\n",
       "      <td>2</td>\n",
       "      <td>239.0</td>\n",
       "      <td>151.0</td>\n",
       "      <td>1.56</td>\n",
       "      <td>0.5</td>\n",
       "      <td>1.26</td>\n",
       "      <td>04/06/2017 07:53:28 PM</td>\n",
       "      <td>04/06/2017 07:58:13 PM</td>\n",
       "      <td>1.0</td>\n",
       "      <td>0.0</td>\n",
       "      <td>1.0</td>\n",
       "      <td>1.0</td>\n",
       "      <td>N</td>\n",
       "      <td>1.0</td>\n",
       "      <td>0.3</td>\n",
       "    </tr>\n",
       "    <tr>\n",
       "      <th>154233</th>\n",
       "      <td>154233</td>\n",
       "      <td>1</td>\n",
       "      <td>249.0</td>\n",
       "      <td>13.0</td>\n",
       "      <td>2.45</td>\n",
       "      <td>0.5</td>\n",
       "      <td>2.2</td>\n",
       "      <td>04/03/2017 10:52:58 AM</td>\n",
       "      <td>04/03/2017 11:06:20 AM</td>\n",
       "      <td>1.0</td>\n",
       "      <td>0.0</td>\n",
       "      <td>1.0</td>\n",
       "      <td>1.0</td>\n",
       "      <td>N</td>\n",
       "      <td>0.0</td>\n",
       "      <td>0.3</td>\n",
       "    </tr>\n",
       "    <tr>\n",
       "      <th>154234</th>\n",
       "      <td>154234</td>\n",
       "      <td>2</td>\n",
       "      <td>161.0</td>\n",
       "      <td>90.0</td>\n",
       "      <td>2.66</td>\n",
       "      <td>0.5</td>\n",
       "      <td>1.71</td>\n",
       "      <td>04/05/2017 07:38:32 PM</td>\n",
       "      <td>04/05/2017 07:55:26 PM</td>\n",
       "      <td>2.0</td>\n",
       "      <td>0.0</td>\n",
       "      <td>1.0</td>\n",
       "      <td>1.0</td>\n",
       "      <td>N</td>\n",
       "      <td>1.0</td>\n",
       "      <td>0.3</td>\n",
       "    </tr>\n",
       "  </tbody>\n",
       "</table>\n",
       "<p>154235 rows × 16 columns</p>\n",
       "</div>"
      ],
      "text/plain": [
       "            ID vendor_id pickup_loc drop_loc driver_tip mta_tax distance  \\\n",
       "0            0         1       68.0    186.0        1.0     0.5      0.7   \n",
       "1            1         1      170.0    161.0       2.55     0.5      1.0   \n",
       "2            2         2       13.0    246.0       2.96     0.5     3.35   \n",
       "3            3         1      170.0    233.0        2.0     0.5      0.8   \n",
       "4            4         1      237.0    236.0        1.0     0.5      0.7   \n",
       "...        ...       ...        ...      ...        ...     ...      ...   \n",
       "154230  154230         2      234.0    161.0       2.56     0.5     1.47   \n",
       "154231  154231         1      141.0    236.0        1.0     0.5      1.1   \n",
       "154232  154232         2      239.0    151.0       1.56     0.5     1.26   \n",
       "154233  154233         1      249.0     13.0       2.45     0.5      2.2   \n",
       "154234  154234         2      161.0     90.0       2.66     0.5     1.71   \n",
       "\n",
       "                   pickup_time               drop_time num_passengers  \\\n",
       "0       04/05/2017 05:49:46 AM  04/05/2017 05:54:03 AM            1.0   \n",
       "1       04/07/2017 08:57:27 AM  04/07/2017 09:16:00 AM            1.0   \n",
       "2       04/06/2017 08:06:41 AM  04/06/2017 08:21:33 AM            2.0   \n",
       "3       04/04/2017 08:31:34 AM  04/04/2017 08:37:21 AM            2.0   \n",
       "4       04/07/2017 10:54:06 AM  04/07/2017 11:00:59 AM            1.0   \n",
       "...                        ...                     ...            ...   \n",
       "154230  04/05/2017 07:17:29 PM  04/05/2017 07:33:29 PM            6.0   \n",
       "154231  04/05/2017 01:02:10 PM  04/05/2017 01:09:10 PM            2.0   \n",
       "154232  04/06/2017 07:53:28 PM  04/06/2017 07:58:13 PM            1.0   \n",
       "154233  04/03/2017 10:52:58 AM  04/03/2017 11:06:20 AM            1.0   \n",
       "154234  04/05/2017 07:38:32 PM  04/05/2017 07:55:26 PM            2.0   \n",
       "\n",
       "       toll_amount payment_method rate_code stored_flag extra_charges  \\\n",
       "0              0.0            1.0       1.0           N           0.5   \n",
       "1              0.0            1.0       1.0           N           0.0   \n",
       "2              0.0            1.0       1.0           N           0.0   \n",
       "3              0.0            1.0       1.0           N           0.0   \n",
       "4              0.0            1.0       1.0           Y           0.0   \n",
       "...            ...            ...       ...         ...           ...   \n",
       "154230         0.0            1.0       1.0           N           1.0   \n",
       "154231         0.0            1.0       1.0           N           0.0   \n",
       "154232         0.0            1.0       1.0           N           1.0   \n",
       "154233         0.0            1.0       1.0           N           0.0   \n",
       "154234         0.0            1.0       1.0           N           1.0   \n",
       "\n",
       "       improvement_charge  \n",
       "0                     0.3  \n",
       "1                     0.3  \n",
       "2                     0.3  \n",
       "3                     0.3  \n",
       "4                     0.3  \n",
       "...                   ...  \n",
       "154230                0.3  \n",
       "154231                0.3  \n",
       "154232                0.3  \n",
       "154233                0.3  \n",
       "154234                0.3  \n",
       "\n",
       "[154235 rows x 16 columns]"
      ]
     },
     "execution_count": 4,
     "metadata": {},
     "output_type": "execute_result"
    }
   ],
   "source": [
    "df_train"
   ]
  },
  {
   "cell_type": "markdown",
   "id": "e7fa3c10",
   "metadata": {
    "papermill": {
     "duration": 0.011771,
     "end_time": "2023-09-17T13:19:00.170778",
     "exception": false,
     "start_time": "2023-09-17T13:19:00.159007",
     "status": "completed"
    },
    "tags": []
   },
   "source": [
    "Converting String timestamp to Date timestamp to calculate journey time in Mins as journey time is an important factor for pricing "
   ]
  },
  {
   "cell_type": "code",
   "execution_count": null,
   "id": "9909b5b3",
   "metadata": {
    "execution": {
     "iopub.execute_input": "2023-09-17T13:19:00.197395Z",
     "iopub.status.busy": "2023-09-17T13:19:00.196413Z",
     "iopub.status.idle": "2023-09-17T13:20:01.958882Z",
     "shell.execute_reply": "2023-09-17T13:20:01.957619Z"
    },
    "papermill": {
     "duration": 61.77899,
     "end_time": "2023-09-17T13:20:01.961916",
     "exception": false,
     "start_time": "2023-09-17T13:19:00.182926",
     "status": "completed"
    },
    "tags": []
   },
   "outputs": [],
   "source": [
    "df_train['pickup_time'] = df_train['pickup_time'].str.split(' ').str[0].str.split('/').str[2]+df_train['pickup_time'].str.split(' ').str[0].str.split('/').str[1]+df_train['pickup_time'].str.split(' ').str[0].str.split('/').str[0]+df_train['pickup_time'].str.split(' ').str[1].str.replace(':','')\n",
    "df_train['drop_time'] = df_train['drop_time'].str.split(' ').str[0].str.split('/').str[2]+df_train['drop_time'].str.split(' ').str[0].str.split('/').str[1]+df_train['drop_time'].str.split(' ').str[0].str.split('/').str[0]+df_train['drop_time'].str.split(' ').str[1].str.replace(':','')\n",
    "\n",
    "\n",
    "df_test['pickup_time'] = df_test['pickup_time'].str.split(' ').str[0].str.split('/').str[2]+df_test['pickup_time'].str.split(' ').str[0].str.split('/').str[1]+df_test['pickup_time'].str.split(' ').str[0].str.split('/').str[0]+df_test['pickup_time'].str.split(' ').str[1].str.replace(':','')\n",
    "df_test['drop_time'] = df_test['drop_time'].str.split(' ').str[0].str.split('/').str[2]+df_test['drop_time'].str.split(' ').str[0].str.split('/').str[1]+df_test['drop_time'].str.split(' ').str[0].str.split('/').str[0]+df_test['drop_time'].str.split(' ').str[1].str.replace(':','')\n"
   ]
  },
  {
   "cell_type": "markdown",
   "id": "a5b4071a",
   "metadata": {
    "papermill": {
     "duration": 0.011689,
     "end_time": "2023-09-17T13:20:01.985860",
     "exception": false,
     "start_time": "2023-09-17T13:20:01.974171",
     "status": "completed"
    },
    "tags": []
   },
   "source": [
    "Caculating Journey time in Minutes"
   ]
  },
  {
   "cell_type": "code",
   "execution_count": 7,
   "id": "eb5fff6e",
   "metadata": {
    "execution": {
     "iopub.execute_input": "2023-09-17T13:20:02.014365Z",
     "iopub.status.busy": "2023-09-17T13:20:02.013741Z",
     "iopub.status.idle": "2023-09-17T13:20:17.341289Z",
     "shell.execute_reply": "2023-09-17T13:20:17.340059Z"
    },
    "papermill": {
     "duration": 15.34534,
     "end_time": "2023-09-17T13:20:17.344209",
     "exception": false,
     "start_time": "2023-09-17T13:20:01.998869",
     "status": "completed"
    },
    "tags": []
   },
   "outputs": [],
   "source": [
    "# Training dataset\n",
    "df_train['pickup_time'] = pd.to_datetime(df_train['pickup_time'],format= '%Y%d%m%H%M%S')\n",
    "df_train['drop_time']  = pd.to_datetime(df_train['drop_time'],format= '%Y%d%m%H%M%S')\n",
    "df_train['Journer_Time_in_Mins'] = (df_train['drop_time'] - df_train['pickup_time']) / pd.Timedelta(minutes=1)\n",
    "\n",
    "\n",
    "# Test dataset\n",
    "df_test['pickup_time'] = pd.to_datetime(df_test['pickup_time'],format= '%Y%d%m%H%M%S')\n",
    "df_test['drop_time']  = pd.to_datetime(df_test['drop_time'],format= '%Y%d%m%H%M%S')\n",
    "df_test['Journer_Time_in_Mins'] = (df_test['drop_time'] - df_test['pickup_time']) / pd.Timedelta(minutes=1)"
   ]
  },
  {
   "cell_type": "markdown",
   "id": "c30847be",
   "metadata": {
    "papermill": {
     "duration": 0.012424,
     "end_time": "2023-09-17T13:20:17.368700",
     "exception": false,
     "start_time": "2023-09-17T13:20:17.356276",
     "status": "completed"
    },
    "tags": []
   },
   "source": [
    "Type casting string columns to numeric cols for model training"
   ]
  },
  {
   "cell_type": "code",
   "execution_count": 8,
   "id": "2dcbb95d",
   "metadata": {
    "execution": {
     "iopub.execute_input": "2023-09-17T13:20:17.395004Z",
     "iopub.status.busy": "2023-09-17T13:20:17.394570Z",
     "iopub.status.idle": "2023-09-17T13:20:26.723064Z",
     "shell.execute_reply": "2023-09-17T13:20:26.722156Z"
    },
    "papermill": {
     "duration": 9.344811,
     "end_time": "2023-09-17T13:20:26.725765",
     "exception": false,
     "start_time": "2023-09-17T13:20:17.380954",
     "status": "completed"
    },
    "tags": []
   },
   "outputs": [],
   "source": [
    "df_train['total_amount'] = df_train['total_amount'].str.replace('+AC0-','').astype('float')\n",
    "df_train['improvement_charge'] = df_train['improvement_charge'].str.replace('+AC0-','').astype('float')\n",
    "df_train['distance'] = df_train['distance'].str.replace('+AC0-','').astype('float')\n",
    "df_train['mta_tax'] = df_train['mta_tax'].str.replace('+AHs-','').str.replace('+AC0-','').astype('float')\n",
    "df_train['driver_tip'] = df_train['driver_tip'].str.replace('+AC0-','').astype('float')\n",
    "df_train['pickup_loc'] = df_train['pickup_loc'].str.replace('+AC0-','').astype('float')\n",
    "df_train['drop_loc'] = df_train['drop_loc'].str.replace('+AC0-','').astype('float')\n",
    "df_train['num_passengers'] = df_train['num_passengers'].str.replace('+AC0-','').astype('float')\n",
    "df_train['extra_charges'] = df_train['extra_charges'].str.replace('+AC0-','').astype('float')\n",
    "df_train['toll_amount'] = df_train['toll_amount'].str.replace('+AC0-','').astype('float')\n",
    "\n",
    "\n",
    "\n",
    "df_test['improvement_charge'] = df_test['improvement_charge'].str.replace('+AC0-','').astype('float')\n",
    "df_test['distance'] = df_test['distance'].str.replace('+AC0-','').astype('float')\n",
    "df_test['mta_tax'] = df_test['mta_tax'].str.replace('+AHs-','').str.replace('+AC0-','').astype('float')\n",
    "df_test['driver_tip'] = df_test['driver_tip'].str.replace('+AC0-','').astype('float')\n",
    "df_test['pickup_loc'] = df_test['pickup_loc'].str.replace('+AC0-','').astype('float')\n",
    "df_test['drop_loc'] = df_test['drop_loc'].str.replace('+AC0-','').astype('float')\n",
    "df_test['num_passengers'] = df_test['num_passengers'].str.replace('+AC0-','').astype('float')\n",
    "df_test['extra_charges'] = df_test['extra_charges'].str.replace('+AC0-','').astype('float')\n",
    "df_test['toll_amount'] = df_test['toll_amount'].str.replace('+AC0-','').astype('float')\n"
   ]
  },
  {
   "cell_type": "markdown",
   "id": "8259a859",
   "metadata": {
    "papermill": {
     "duration": 0.011617,
     "end_time": "2023-09-17T13:20:26.749687",
     "exception": false,
     "start_time": "2023-09-17T13:20:26.738070",
     "status": "completed"
    },
    "tags": []
   },
   "source": [
    "Doing EDA on dataset"
   ]
  },
  {
   "cell_type": "markdown",
   "id": "0d3549ae",
   "metadata": {
    "papermill": {
     "duration": 0.011575,
     "end_time": "2023-09-17T13:20:26.773043",
     "exception": false,
     "start_time": "2023-09-17T13:20:26.761468",
     "status": "completed"
    },
    "tags": []
   },
   "source": [
    "Selecting Most Relevant features of dataset as we don't want our model to be overfitted by passing too many features. Some of the imp features like demand, traffic, premium locations etc which can and do affect the journey amount were missing in dataset"
   ]
  },
  {
   "cell_type": "code",
   "execution_count": 9,
   "id": "f44a8baa",
   "metadata": {
    "execution": {
     "iopub.execute_input": "2023-09-17T13:20:26.800936Z",
     "iopub.status.busy": "2023-09-17T13:20:26.800267Z",
     "iopub.status.idle": "2023-09-17T13:20:26.853234Z",
     "shell.execute_reply": "2023-09-17T13:20:26.852380Z"
    },
    "papermill": {
     "duration": 0.070843,
     "end_time": "2023-09-17T13:20:26.855801",
     "exception": false,
     "start_time": "2023-09-17T13:20:26.784958",
     "status": "completed"
    },
    "tags": []
   },
   "outputs": [],
   "source": [
    "df_selec = df_train.loc[:,['distance','mta_tax','toll_amount','extra_charges','improvement_charge','Journer_Time_in_Mins','total_amount']]\n",
    "df_selec_test = df_test.loc[:,['distance','mta_tax','toll_amount','extra_charges','improvement_charge','Journer_Time_in_Mins']]"
   ]
  },
  {
   "cell_type": "markdown",
   "id": "c64f9ed3",
   "metadata": {
    "papermill": {
     "duration": 0.011559,
     "end_time": "2023-09-17T13:20:26.879449",
     "exception": false,
     "start_time": "2023-09-17T13:20:26.867890",
     "status": "completed"
    },
    "tags": []
   },
   "source": [
    "Correlation Heatmap"
   ]
  },
  {
   "cell_type": "code",
   "execution_count": 10,
   "id": "f4acdee8",
   "metadata": {
    "execution": {
     "iopub.execute_input": "2023-09-17T13:20:26.905425Z",
     "iopub.status.busy": "2023-09-17T13:20:26.904745Z",
     "iopub.status.idle": "2023-09-17T13:20:29.424304Z",
     "shell.execute_reply": "2023-09-17T13:20:29.423025Z"
    },
    "papermill": {
     "duration": 2.535852,
     "end_time": "2023-09-17T13:20:29.427177",
     "exception": false,
     "start_time": "2023-09-17T13:20:26.891325",
     "status": "completed"
    },
    "tags": []
   },
   "outputs": [
    {
     "data": {
      "image/png": "[encoded data removed]",
      "text/plain": [
       "<Figure size 1600x600 with 2 Axes>"
      ]
     },
     "metadata": {},
     "output_type": "display_data"
    }
   ],
   "source": [
    "import seaborn as sns\n",
    "import matplotlib.pyplot as plt\n",
    "\n",
    "plt.figure(figsize=(16, 6))\n",
    "heatmap = sns.heatmap(df_selec.corr(), vmin=-1, vmax=1, annot=True)\n",
    "heatmap.set_title('Correlation Heatmap', fontdict={'fontsize':12}, pad=12);\n",
    " "
   ]
  },
  {
   "cell_type": "markdown",
   "id": "98cd6822",
   "metadata": {
    "papermill": {
     "duration": 0.013403,
     "end_time": "2023-09-17T13:20:29.454523",
     "exception": false,
     "start_time": "2023-09-17T13:20:29.441120",
     "status": "completed"
    },
    "tags": []
   },
   "source": [
    "Choosing Regression Model for Prediction as the journey amount are linearly related to selected features."
   ]
  },
  {
   "cell_type": "markdown",
   "id": "5858daf3",
   "metadata": {
    "papermill": {
     "duration": 0.013112,
     "end_time": "2023-09-17T13:20:29.481044",
     "exception": false,
     "start_time": "2023-09-17T13:20:29.467932",
     "status": "completed"
    },
    "tags": []
   },
   "source": [
    "Spliting into Train and Validation Dataset"
   ]
  },
  {
   "cell_type": "code",
   "execution_count": 11,
   "id": "082e5f39",
   "metadata": {
    "execution": {
     "iopub.execute_input": "2023-09-17T13:20:29.509660Z",
     "iopub.status.busy": "2023-09-17T13:20:29.509254Z",
     "iopub.status.idle": "2023-09-17T13:20:30.140444Z",
     "shell.execute_reply": "2023-09-17T13:20:30.139190Z"
    },
    "papermill": {
     "duration": 0.649055,
     "end_time": "2023-09-17T13:20:30.143474",
     "exception": false,
     "start_time": "2023-09-17T13:20:29.494419",
     "status": "completed"
    },
    "tags": []
   },
   "outputs": [],
   "source": [
    "from sklearn.model_selection import train_test_split\n",
    "\n",
    "df_selec = df_selec.dropna()\n",
    "\n",
    "df_selec_y = df_selec['total_amount']\n",
    "df_selec_x = df_selec.loc[:,['distance','mta_tax','toll_amount','extra_charges','improvement_charge','Journer_Time_in_Mins']]\n",
    "\n",
    "x_train, x_val, y_train, y_val = train_test_split(df_selec_x, df_selec_y)"
   ]
  },
  {
   "cell_type": "markdown",
   "id": "b2321246",
   "metadata": {
    "papermill": {
     "duration": 0.013493,
     "end_time": "2023-09-17T13:20:30.170443",
     "exception": false,
     "start_time": "2023-09-17T13:20:30.156950",
     "status": "completed"
    },
    "tags": []
   },
   "source": [
    "Training the model on Simple Linear Regression"
   ]
  },
  {
   "cell_type": "code",
   "execution_count": 12,
   "id": "c26561ec",
   "metadata": {
    "execution": {
     "iopub.execute_input": "2023-09-17T13:20:30.199421Z",
     "iopub.status.busy": "2023-09-17T13:20:30.198696Z",
     "iopub.status.idle": "2023-09-17T13:20:30.650104Z",
     "shell.execute_reply": "2023-09-17T13:20:30.649266Z"
    },
    "papermill": {
     "duration": 0.47153,
     "end_time": "2023-09-17T13:20:30.655270",
     "exception": false,
     "start_time": "2023-09-17T13:20:30.183740",
     "status": "completed"
    },
    "tags": []
   },
   "outputs": [
    {
     "data": {
      "text/html": [
       "<style>#sk-container-id-1 {color: black;background-color: white;}#sk-container-id-1 pre{padding: 0;}#sk-container-id-1 div.sk-toggleable {background-color: white;}#sk-container-id-1 label.sk-toggleable__label {cursor: pointer;display: block;width: 100%;margin-bottom: 0;padding: 0.3em;box-sizing: border-box;text-align: center;}#sk-container-id-1 label.sk-toggleable__label-arrow:before {content: \"▸\";float: left;margin-right: 0.25em;color: #696969;}#sk-container-id-1 label.sk-toggleable__label-arrow:hover:before {color: black;}#sk-container-id-1 div.sk-estimator:hover label.sk-toggleable__label-arrow:before {color: black;}#sk-container-id-1 div.sk-toggleable__content {max-height: 0;max-width: 0;overflow: hidden;text-align: left;background-color: #f0f8ff;}#sk-container-id-1 div.sk-toggleable__content pre {margin: 0.2em;color: black;border-radius: 0.25em;background-color: #f0f8ff;}#sk-container-id-1 input.sk-toggleable__control:checked~div.sk-toggleable__content {max-height: 200px;max-width: 100%;overflow: auto;}#sk-container-id-1 input.sk-toggleable__control:checked~label.sk-toggleable__label-arrow:before {content: \"▾\";}#sk-container-id-1 div.sk-estimator input.sk-toggleable__control:checked~label.sk-toggleable__label {background-color: #d4ebff;}#sk-container-id-1 div.sk-label input.sk-toggleable__control:checked~label.sk-toggleable__label {background-color: #d4ebff;}#sk-container-id-1 input.sk-hidden--visually {border: 0;clip: rect(1px 1px 1px 1px);clip: rect(1px, 1px, 1px, 1px);height: 1px;margin: -1px;overflow: hidden;padding: 0;position: absolute;width: 1px;}#sk-container-id-1 div.sk-estimator {font-family: monospace;background-color: #f0f8ff;border: 1px dotted black;border-radius: 0.25em;box-sizing: border-box;margin-bottom: 0.5em;}#sk-container-id-1 div.sk-estimator:hover {background-color: #d4ebff;}#sk-container-id-1 div.sk-parallel-item::after {content: \"\";width: 100%;border-bottom: 1px solid gray;flex-grow: 1;}#sk-container-id-1 div.sk-label:hover label.sk-toggleable__label {background-color: #d4ebff;}#sk-container-id-1 div.sk-serial::before {content: \"\";position: absolute;border-left: 1px solid gray;box-sizing: border-box;top: 0;bottom: 0;left: 50%;z-index: 0;}#sk-container-id-1 div.sk-serial {display: flex;flex-direction: column;align-items: center;background-color: white;padding-right: 0.2em;padding-left: 0.2em;position: relative;}#sk-container-id-1 div.sk-item {position: relative;z-index: 1;}#sk-container-id-1 div.sk-parallel {display: flex;align-items: stretch;justify-content: center;background-color: white;position: relative;}#sk-container-id-1 div.sk-item::before, #sk-container-id-1 div.sk-parallel-item::before {content: \"\";position: absolute;border-left: 1px solid gray;box-sizing: border-box;top: 0;bottom: 0;left: 50%;z-index: -1;}#sk-container-id-1 div.sk-parallel-item {display: flex;flex-direction: column;z-index: 1;position: relative;background-color: white;}#sk-container-id-1 div.sk-parallel-item:first-child::after {align-self: flex-end;width: 50%;}#sk-container-id-1 div.sk-parallel-item:last-child::after {align-self: flex-start;width: 50%;}#sk-container-id-1 div.sk-parallel-item:only-child::after {width: 0;}#sk-container-id-1 div.sk-dashed-wrapped {border: 1px dashed gray;margin: 0 0.4em 0.5em 0.4em;box-sizing: border-box;padding-bottom: 0.4em;background-color: white;}#sk-container-id-1 div.sk-label label {font-family: monospace;font-weight: bold;display: inline-block;line-height: 1.2em;}#sk-container-id-1 div.sk-label-container {text-align: center;}#sk-container-id-1 div.sk-container {/* jupyter's `normalize.less` sets `[hidden] { display: none; }` but bootstrap.min.css set `[hidden] { display: none !important; }` so we also need the `!important` here to be able to override the default hidden behavior on the sphinx rendered scikit-learn.org. See: https://github.com/scikit-learn/scikit-learn/issues/21755 */display: inline-block !important;position: relative;}#sk-container-id-1 div.sk-text-repr-fallback {display: none;}</style><div id=\"sk-container-id-1\" class=\"sk-top-container\"><div class=\"sk-text-repr-fallback\"><pre>LinearRegression()</pre><b>In a Jupyter environment, please rerun this cell to show the HTML representation or trust the notebook. <br />On GitHub, the HTML representation is unable to render, please try loading this page with nbviewer.org.</b></div><div class=\"sk-container\" hidden><div class=\"sk-item\"><div class=\"sk-estimator sk-toggleable\"><input class=\"sk-toggleable__control sk-hidden--visually\" id=\"sk-estimator-id-1\" type=\"checkbox\" checked><label for=\"sk-estimator-id-1\" class=\"sk-toggleable__label sk-toggleable__label-arrow\">LinearRegression</label><div class=\"sk-toggleable__content\"><pre>LinearRegression()</pre></div></div></div></div></div>"
      ],
      "text/plain": [
       "LinearRegression()"
      ]
     },
     "execution_count": 12,
     "metadata": {},
     "output_type": "execute_result"
    }
   ],
   "source": [
    "from sklearn.linear_model import LinearRegression\n",
    "\n",
    "\n",
    "df_linear_y = y_train\n",
    "df_linear_x = x_train\n",
    "\n",
    "\n",
    "linear_reg = LinearRegression()\n",
    "linear_reg.fit(df_linear_x,df_linear_y)"
   ]
  },
  {
   "cell_type": "markdown",
   "id": "2534fd21",
   "metadata": {
    "papermill": {
     "duration": 0.013795,
     "end_time": "2023-09-17T13:20:30.687632",
     "exception": false,
     "start_time": "2023-09-17T13:20:30.673837",
     "status": "completed"
    },
    "tags": []
   },
   "source": [
    "Predicting the result for Validation Dataset to determine Model Metrics"
   ]
  },
  {
   "cell_type": "code",
   "execution_count": 13,
   "id": "3b97e88a",
   "metadata": {
    "execution": {
     "iopub.execute_input": "2023-09-17T13:20:30.718514Z",
     "iopub.status.busy": "2023-09-17T13:20:30.717761Z",
     "iopub.status.idle": "2023-09-17T13:20:30.745854Z",
     "shell.execute_reply": "2023-09-17T13:20:30.744299Z"
    },
    "papermill": {
     "duration": 0.048768,
     "end_time": "2023-09-17T13:20:30.750085",
     "exception": false,
     "start_time": "2023-09-17T13:20:30.701317",
     "status": "completed"
    },
    "tags": []
   },
   "outputs": [
    {
     "name": "stdout",
     "output_type": "stream",
     "text": [
      "Coefficients: \n",
      " [ 3.06846028e+00 -5.81999251e+01  1.12255334e+00  5.88031860e-01\n",
      "  4.41724711e+01  1.21117883e-04]\n",
      "Root Mean squared error: 5.76\n",
      "Coefficient of determination: 0.84\n"
     ]
    }
   ],
   "source": [
    "from sklearn.metrics import mean_squared_error, r2_score\n",
    "\n",
    "y_acc = linear_reg.predict(x_val)\n",
    "\n",
    "print(\"Coefficients: \\n\", linear_reg.coef_)\n",
    "print(\"Root Mean squared error: %.2f\" % mean_squared_error(y_val, y_acc,squared=False))\n",
    "print(\"Coefficient of determination: %.2f\" % r2_score(y_val, y_acc))\n"
   ]
  },
  {
   "cell_type": "markdown",
   "id": "1b74404e",
   "metadata": {
    "papermill": {
     "duration": 0.02856,
     "end_time": "2023-09-17T13:20:30.807900",
     "exception": false,
     "start_time": "2023-09-17T13:20:30.779340",
     "status": "completed"
    },
    "tags": []
   },
   "source": [
    "Using Ridge Linear Model"
   ]
  },
  {
   "cell_type": "code",
   "execution_count": 14,
   "id": "dc557d0a",
   "metadata": {
    "execution": {
     "iopub.execute_input": "2023-09-17T13:20:30.863387Z",
     "iopub.status.busy": "2023-09-17T13:20:30.862957Z",
     "iopub.status.idle": "2023-09-17T13:20:30.966817Z",
     "shell.execute_reply": "2023-09-17T13:20:30.965056Z"
    },
    "papermill": {
     "duration": 0.130884,
     "end_time": "2023-09-17T13:20:30.971272",
     "exception": false,
     "start_time": "2023-09-17T13:20:30.840388",
     "status": "completed"
    },
    "tags": []
   },
   "outputs": [
    {
     "name": "stdout",
     "output_type": "stream",
     "text": [
      "Coefficients: \n",
      " [ 3.06858056e+00 -5.80606215e+01  1.12306454e+00  5.87785311e-01\n",
      "  4.17396321e+01  1.20957164e-04]\n",
      "Root Mean squared error: 5.76\n",
      "Coefficient of determination: 0.84\n"
     ]
    }
   ],
   "source": [
    "from sklearn.linear_model import Ridge\n",
    "\n",
    "\n",
    "ridge_reg = Ridge()\n",
    "ridge_reg.fit(df_linear_x,df_linear_y)\n",
    "\n",
    "y_acc = ridge_reg.predict(x_val)\n",
    "\n",
    "print(\"Coefficients: \\n\", ridge_reg.coef_)\n",
    "print(\"Root Mean squared error: %.2f\" % mean_squared_error(y_val, y_acc,squared=False))\n",
    "print(\"Coefficient of determination: %.2f\" % r2_score(y_val, y_acc))"
   ]
  },
  {
   "cell_type": "markdown",
   "id": "e8b40ebb",
   "metadata": {
    "papermill": {
     "duration": 0.110977,
     "end_time": "2023-09-17T13:20:31.113169",
     "exception": false,
     "start_time": "2023-09-17T13:20:31.002192",
     "status": "completed"
    },
    "tags": []
   },
   "source": [
    "Lasso Model"
   ]
  },
  {
   "cell_type": "code",
   "execution_count": 15,
   "id": "02dda036",
   "metadata": {
    "execution": {
     "iopub.execute_input": "2023-09-17T13:20:31.144765Z",
     "iopub.status.busy": "2023-09-17T13:20:31.143423Z",
     "iopub.status.idle": "2023-09-17T13:20:31.288502Z",
     "shell.execute_reply": "2023-09-17T13:20:31.287048Z"
    },
    "papermill": {
     "duration": 0.165741,
     "end_time": "2023-09-17T13:20:31.293146",
     "exception": false,
     "start_time": "2023-09-17T13:20:31.127405",
     "status": "completed"
    },
    "tags": []
   },
   "outputs": [
    {
     "name": "stdout",
     "output_type": "stream",
     "text": [
      "Coefficients: \n",
      " [ 3.09174089e+00 -0.00000000e+00  1.13971592e+00  0.00000000e+00\n",
      " -0.00000000e+00  1.76047048e-04]\n",
      "Root Mean squared error: 6.03\n",
      "Coefficient of determination: 0.82\n"
     ]
    }
   ],
   "source": [
    "from sklearn.linear_model import Lasso\n",
    "\n",
    "\n",
    "lasso_reg = Lasso()\n",
    "lasso_reg.fit(df_linear_x,df_linear_y)\n",
    "\n",
    "y_acc = lasso_reg.predict(x_val)\n",
    "\n",
    "print(\"Coefficients: \\n\", lasso_reg.coef_)\n",
    "print(\"Root Mean squared error: %.2f\" % mean_squared_error(y_val, y_acc,squared=False))\n",
    "print(\"Coefficient of determination: %.2f\" % r2_score(y_val, y_acc))"
   ]
  },
  {
   "cell_type": "markdown",
   "id": "8555f949",
   "metadata": {
    "papermill": {
     "duration": 0.028255,
     "end_time": "2023-09-17T13:20:31.398290",
     "exception": false,
     "start_time": "2023-09-17T13:20:31.370035",
     "status": "completed"
    },
    "tags": []
   },
   "source": [
    "ElasticNet Model"
   ]
  },
  {
   "cell_type": "code",
   "execution_count": 16,
   "id": "d80e6b36",
   "metadata": {
    "execution": {
     "iopub.execute_input": "2023-09-17T13:20:31.428946Z",
     "iopub.status.busy": "2023-09-17T13:20:31.428498Z",
     "iopub.status.idle": "2023-09-17T13:20:31.564506Z",
     "shell.execute_reply": "2023-09-17T13:20:31.562804Z"
    },
    "papermill": {
     "duration": 0.156483,
     "end_time": "2023-09-17T13:20:31.569469",
     "exception": false,
     "start_time": "2023-09-17T13:20:31.412986",
     "status": "completed"
    },
    "tags": []
   },
   "outputs": [
    {
     "name": "stdout",
     "output_type": "stream",
     "text": [
      "Coefficients: \n",
      " [ 3.00557071e+00 -0.00000000e+00  1.18857031e+00  0.00000000e+00\n",
      " -0.00000000e+00  3.12289654e-04]\n",
      "Root Mean squared error: 6.04\n",
      "Coefficient of determination: 0.82\n"
     ]
    }
   ],
   "source": [
    "from sklearn.linear_model import ElasticNet\n",
    "\n",
    "\n",
    "elasticnet_reg = ElasticNet()\n",
    "elasticnet_reg.fit(df_linear_x,df_linear_y)\n",
    "\n",
    "y_acc = elasticnet_reg.predict(x_val)\n",
    "\n",
    "print(\"Coefficients: \\n\", elasticnet_reg.coef_)\n",
    "print(\"Root Mean squared error: %.2f\" % mean_squared_error(y_val, y_acc,squared=False))\n",
    "print(\"Coefficient of determination: %.2f\" % r2_score(y_val, y_acc))"
   ]
  },
  {
   "cell_type": "markdown",
   "id": "7247c585",
   "metadata": {
    "papermill": {
     "duration": 0.028289,
     "end_time": "2023-09-17T13:20:31.627348",
     "exception": false,
     "start_time": "2023-09-17T13:20:31.599059",
     "status": "completed"
    },
    "tags": []
   },
   "source": [
    "LassoLars Regression"
   ]
  },
  {
   "cell_type": "code",
   "execution_count": 17,
   "id": "f873739f",
   "metadata": {
    "execution": {
     "iopub.execute_input": "2023-09-17T13:20:31.677518Z",
     "iopub.status.busy": "2023-09-17T13:20:31.677118Z",
     "iopub.status.idle": "2023-09-17T13:20:31.767021Z",
     "shell.execute_reply": "2023-09-17T13:20:31.765495Z"
    },
    "papermill": {
     "duration": 0.117938,
     "end_time": "2023-09-17T13:20:31.774455",
     "exception": false,
     "start_time": "2023-09-17T13:20:31.656517",
     "status": "completed"
    },
    "tags": []
   },
   "outputs": [
    {
     "name": "stdout",
     "output_type": "stream",
     "text": [
      "Coefficients: \n",
      " [3.09170798e+00 0.00000000e+00 1.13974227e+00 0.00000000e+00\n",
      " 0.00000000e+00 1.76090228e-04]\n",
      "Root Mean squared error: 6.03\n",
      "Coefficient of determination: 0.82\n"
     ]
    }
   ],
   "source": [
    "from sklearn.linear_model import LassoLars\n",
    "\n",
    "\n",
    "LassoLars_reg = LassoLars()\n",
    "LassoLars_reg.fit(df_linear_x,df_linear_y)\n",
    "\n",
    "y_acc = LassoLars_reg.predict(x_val)\n",
    "\n",
    "print(\"Coefficients: \\n\", LassoLars_reg.coef_)\n",
    "print(\"Root Mean squared error: %.2f\" % mean_squared_error(y_val, y_acc,squared=False))\n",
    "print(\"Coefficient of determination: %.2f\" % r2_score(y_val, y_acc))"
   ]
  },
  {
   "cell_type": "markdown",
   "id": "1fe90ab0",
   "metadata": {
    "papermill": {
     "duration": 0.03955,
     "end_time": "2023-09-17T13:20:31.848650",
     "exception": false,
     "start_time": "2023-09-17T13:20:31.809100",
     "status": "completed"
    },
    "tags": []
   },
   "source": [
    "TweedieRegressor Model"
   ]
  },
  {
   "cell_type": "code",
   "execution_count": 18,
   "id": "84fe8882",
   "metadata": {
    "execution": {
     "iopub.execute_input": "2023-09-17T13:20:31.893048Z",
     "iopub.status.busy": "2023-09-17T13:20:31.892673Z",
     "iopub.status.idle": "2023-09-17T13:20:32.930102Z",
     "shell.execute_reply": "2023-09-17T13:20:32.928721Z"
    },
    "papermill": {
     "duration": 1.057671,
     "end_time": "2023-09-17T13:20:32.934426",
     "exception": false,
     "start_time": "2023-09-17T13:20:31.876755",
     "status": "completed"
    },
    "tags": []
   },
   "outputs": [
    {
     "name": "stdout",
     "output_type": "stream",
     "text": [
      "Coefficients: \n",
      " [ 2.92745662e+00 -7.23312981e-02  1.22219060e+00  1.06537619e-01\n",
      " -9.64774709e-04  4.21608313e-04]\n",
      "Root Mean squared error: 6.07\n",
      "Coefficient of determination: 0.82\n"
     ]
    }
   ],
   "source": [
    "from sklearn.linear_model import TweedieRegressor\n",
    "\n",
    "\n",
    "TweedieRegressor_reg = TweedieRegressor()\n",
    "TweedieRegressor_reg.fit(df_linear_x,df_linear_y)\n",
    "\n",
    "y_acc = TweedieRegressor_reg.predict(x_val)\n",
    "\n",
    "print(\"Coefficients: \\n\", TweedieRegressor_reg.coef_)\n",
    "print(\"Root Mean squared error: %.2f\" % mean_squared_error(y_val, y_acc,squared=False))\n",
    "print(\"Coefficient of determination: %.2f\" % r2_score(y_val, y_acc))"
   ]
  },
  {
   "cell_type": "markdown",
   "id": "1249e68d",
   "metadata": {
    "papermill": {
     "duration": 0.03084,
     "end_time": "2023-09-17T13:20:32.996719",
     "exception": false,
     "start_time": "2023-09-17T13:20:32.965879",
     "status": "completed"
    },
    "tags": []
   },
   "source": [
    "Polynomial Regression"
   ]
  },
  {
   "cell_type": "code",
   "execution_count": 19,
   "id": "3ca84fff",
   "metadata": {
    "execution": {
     "iopub.execute_input": "2023-09-17T13:20:33.049433Z",
     "iopub.status.busy": "2023-09-17T13:20:33.049029Z",
     "iopub.status.idle": "2023-09-17T13:20:40.680975Z",
     "shell.execute_reply": "2023-09-17T13:20:40.679230Z"
    },
    "papermill": {
     "duration": 7.657321,
     "end_time": "2023-09-17T13:20:40.685440",
     "exception": false,
     "start_time": "2023-09-17T13:20:33.028119",
     "status": "completed"
    },
    "tags": []
   },
   "outputs": [
    {
     "name": "stdout",
     "output_type": "stream",
     "text": [
      "Coefficients: \n",
      " [-1.24970129e-07 -1.26214829e+01  3.95255990e+01 -2.09693509e+01\n",
      " -6.78355507e+01  8.55013541e+01 -4.55124979e-02  6.27215949e-01\n",
      " -2.83162747e+01 -5.36976194e+00  7.87281232e-01  4.89989841e+01\n",
      "  1.20189988e-01  1.97627996e+01  2.74118679e+00  1.00279997e+02\n",
      " -3.36070545e+02 -4.39055435e-02  1.91992714e+00  3.68725809e-01\n",
      "  6.76431907e+01  1.10426705e+00  4.32391943e+01 -2.03506652e+01\n",
      "  8.48670794e-03  2.56504063e+01  1.47067840e-01  4.82382555e-05\n",
      "  2.89878629e-04  2.97321646e-02  2.11179351e-03  1.28143134e-03\n",
      " -2.24960143e+00  1.74180676e-05 -1.41581374e+01 -1.48248474e-01\n",
      " -9.30832344e-01  1.18620820e+02 -1.46574539e-03  3.06560168e-04\n",
      "  2.65523400e-02  1.76431407e+01 -3.95229516e-05 -2.45841732e-01\n",
      "  2.36184374e-01  2.16407354e-04  1.46996952e+01 -3.99423387e-01\n",
      " -1.84948590e-08  9.88139980e+00  1.37059339e+00  5.01399987e+01\n",
      " -1.68035273e+02 -2.19527748e-02 -3.38370122e-03 -2.86086724e+00\n",
      "  8.22356036e-01 -6.14727501e-05 -7.70122518e+01  3.00839992e+01\n",
      " -1.54597101e-02 -1.00821164e+02  2.55349755e-01 -4.01329488e-06\n",
      "  5.05043711e-06 -2.15763974e-03 -6.41821333e+00  7.26649687e-06\n",
      "  1.48072400e-01  1.10617742e-01 -4.20937255e-04  2.02929572e+01\n",
      " -3.67832029e+00 -4.26853823e-08 -9.49317676e-01  1.29717583e+01\n",
      "  1.25706773e-03 -6.10519955e+00  2.54601258e-03 -4.24109560e-06\n",
      "  7.69512188e+00  4.41203520e-02 -1.13413144e-04 -1.28821593e-08]\n",
      "Root Mean squared error: 6.00\n",
      "Coefficient of determination: 0.83\n"
     ]
    }
   ],
   "source": [
    "from sklearn.linear_model import LinearRegression\n",
    "from sklearn.preprocessing import PolynomialFeatures\n",
    "\n",
    "\n",
    "polynomial_features= PolynomialFeatures(degree=3)\n",
    "x_poly = polynomial_features.fit_transform(df_linear_x)\n",
    "\n",
    "model = LinearRegression()\n",
    "model.fit(x_poly, df_linear_y)\n",
    "\n",
    "x_poly = polynomial_features.fit_transform(x_val)\n",
    "y_acc = model.predict(x_poly)\n",
    "\n",
    "print(\"Coefficients: \\n\", model.coef_)\n",
    "print(\"Root Mean squared error: %.2f\" % mean_squared_error(y_val, y_acc,squared=False))\n",
    "print(\"Coefficient of determination: %.2f\" % r2_score(y_val, y_acc))"
   ]
  },
  {
   "cell_type": "markdown",
   "id": "fa9a2fd5",
   "metadata": {
    "papermill": {
     "duration": 0.029991,
     "end_time": "2023-09-17T13:20:40.747203",
     "exception": false,
     "start_time": "2023-09-17T13:20:40.717212",
     "status": "completed"
    },
    "tags": []
   },
   "source": [
    "Choosing Polynomial Regression model as it yeils minimum RMSE and max R^2 "
   ]
  },
  {
   "cell_type": "markdown",
   "id": "99279b42",
   "metadata": {
    "papermill": {
     "duration": 0.014275,
     "end_time": "2023-09-17T13:20:40.788473",
     "exception": false,
     "start_time": "2023-09-17T13:20:40.774198",
     "status": "completed"
    },
    "tags": []
   },
   "source": [
    "predicting values for testing dataset"
   ]
  },
  {
   "cell_type": "code",
   "execution_count": 20,
   "id": "37776b11",
   "metadata": {
    "execution": {
     "iopub.execute_input": "2023-09-17T13:20:40.819285Z",
     "iopub.status.busy": "2023-09-17T13:20:40.818858Z",
     "iopub.status.idle": "2023-09-17T13:20:41.064469Z",
     "shell.execute_reply": "2023-09-17T13:20:41.062869Z"
    },
    "papermill": {
     "duration": 0.265987,
     "end_time": "2023-09-17T13:20:41.069098",
     "exception": false,
     "start_time": "2023-09-17T13:20:40.803111",
     "status": "completed"
    },
    "tags": []
   },
   "outputs": [
    {
     "data": {
      "text/html": [
       "<div>\n",
       "<style scoped>\n",
       "    .dataframe tbody tr th:only-of-type {\n",
       "        vertical-align: middle;\n",
       "    }\n",
       "\n",
       "    .dataframe tbody tr th {\n",
       "        vertical-align: top;\n",
       "    }\n",
       "\n",
       "    .dataframe thead th {\n",
       "        text-align: right;\n",
       "    }\n",
       "</style>\n",
       "<table border=\"1\" class=\"dataframe\">\n",
       "  <thead>\n",
       "    <tr style=\"text-align: right;\">\n",
       "      <th></th>\n",
       "      <th>distance</th>\n",
       "      <th>mta_tax</th>\n",
       "      <th>toll_amount</th>\n",
       "      <th>extra_charges</th>\n",
       "      <th>improvement_charge</th>\n",
       "      <th>Journer_Time_in_Mins</th>\n",
       "      <th>total_amount</th>\n",
       "    </tr>\n",
       "  </thead>\n",
       "  <tbody>\n",
       "    <tr>\n",
       "      <th>0</th>\n",
       "      <td>0.70</td>\n",
       "      <td>0.5</td>\n",
       "      <td>0.0</td>\n",
       "      <td>0.5</td>\n",
       "      <td>0.3</td>\n",
       "      <td>4.283333</td>\n",
       "      <td>7.147941</td>\n",
       "    </tr>\n",
       "    <tr>\n",
       "      <th>1</th>\n",
       "      <td>1.00</td>\n",
       "      <td>0.5</td>\n",
       "      <td>0.0</td>\n",
       "      <td>0.0</td>\n",
       "      <td>0.3</td>\n",
       "      <td>18.550000</td>\n",
       "      <td>9.884758</td>\n",
       "    </tr>\n",
       "    <tr>\n",
       "      <th>2</th>\n",
       "      <td>3.35</td>\n",
       "      <td>0.5</td>\n",
       "      <td>0.0</td>\n",
       "      <td>0.0</td>\n",
       "      <td>0.3</td>\n",
       "      <td>14.866667</td>\n",
       "      <td>17.717228</td>\n",
       "    </tr>\n",
       "    <tr>\n",
       "      <th>3</th>\n",
       "      <td>0.80</td>\n",
       "      <td>0.5</td>\n",
       "      <td>0.0</td>\n",
       "      <td>0.0</td>\n",
       "      <td>0.3</td>\n",
       "      <td>5.783333</td>\n",
       "      <td>9.026696</td>\n",
       "    </tr>\n",
       "    <tr>\n",
       "      <th>4</th>\n",
       "      <td>0.70</td>\n",
       "      <td>0.5</td>\n",
       "      <td>0.0</td>\n",
       "      <td>0.0</td>\n",
       "      <td>0.3</td>\n",
       "      <td>6.883333</td>\n",
       "      <td>8.696779</td>\n",
       "    </tr>\n",
       "    <tr>\n",
       "      <th>...</th>\n",
       "      <td>...</td>\n",
       "      <td>...</td>\n",
       "      <td>...</td>\n",
       "      <td>...</td>\n",
       "      <td>...</td>\n",
       "      <td>...</td>\n",
       "      <td>...</td>\n",
       "    </tr>\n",
       "    <tr>\n",
       "      <th>154230</th>\n",
       "      <td>1.47</td>\n",
       "      <td>0.5</td>\n",
       "      <td>0.0</td>\n",
       "      <td>1.0</td>\n",
       "      <td>0.3</td>\n",
       "      <td>16.000000</td>\n",
       "      <td>12.093641</td>\n",
       "    </tr>\n",
       "    <tr>\n",
       "      <th>154231</th>\n",
       "      <td>1.10</td>\n",
       "      <td>0.5</td>\n",
       "      <td>0.0</td>\n",
       "      <td>0.0</td>\n",
       "      <td>0.3</td>\n",
       "      <td>7.000000</td>\n",
       "      <td>10.072715</td>\n",
       "    </tr>\n",
       "    <tr>\n",
       "      <th>154232</th>\n",
       "      <td>1.26</td>\n",
       "      <td>0.5</td>\n",
       "      <td>0.0</td>\n",
       "      <td>1.0</td>\n",
       "      <td>0.3</td>\n",
       "      <td>4.750000</td>\n",
       "      <td>11.164198</td>\n",
       "    </tr>\n",
       "    <tr>\n",
       "      <th>154233</th>\n",
       "      <td>2.20</td>\n",
       "      <td>0.5</td>\n",
       "      <td>0.0</td>\n",
       "      <td>0.0</td>\n",
       "      <td>0.3</td>\n",
       "      <td>13.366667</td>\n",
       "      <td>13.882727</td>\n",
       "    </tr>\n",
       "    <tr>\n",
       "      <th>154234</th>\n",
       "      <td>1.71</td>\n",
       "      <td>0.5</td>\n",
       "      <td>0.0</td>\n",
       "      <td>1.0</td>\n",
       "      <td>0.3</td>\n",
       "      <td>16.900000</td>\n",
       "      <td>12.958813</td>\n",
       "    </tr>\n",
       "  </tbody>\n",
       "</table>\n",
       "<p>154235 rows × 7 columns</p>\n",
       "</div>"
      ],
      "text/plain": [
       "        distance  mta_tax  toll_amount  extra_charges  improvement_charge  \\\n",
       "0           0.70      0.5          0.0            0.5                 0.3   \n",
       "1           1.00      0.5          0.0            0.0                 0.3   \n",
       "2           3.35      0.5          0.0            0.0                 0.3   \n",
       "3           0.80      0.5          0.0            0.0                 0.3   \n",
       "4           0.70      0.5          0.0            0.0                 0.3   \n",
       "...          ...      ...          ...            ...                 ...   \n",
       "154230      1.47      0.5          0.0            1.0                 0.3   \n",
       "154231      1.10      0.5          0.0            0.0                 0.3   \n",
       "154232      1.26      0.5          0.0            1.0                 0.3   \n",
       "154233      2.20      0.5          0.0            0.0                 0.3   \n",
       "154234      1.71      0.5          0.0            1.0                 0.3   \n",
       "\n",
       "        Journer_Time_in_Mins  total_amount  \n",
       "0                   4.283333      7.147941  \n",
       "1                  18.550000      9.884758  \n",
       "2                  14.866667     17.717228  \n",
       "3                   5.783333      9.026696  \n",
       "4                   6.883333      8.696779  \n",
       "...                      ...           ...  \n",
       "154230             16.000000     12.093641  \n",
       "154231              7.000000     10.072715  \n",
       "154232              4.750000     11.164198  \n",
       "154233             13.366667     13.882727  \n",
       "154234             16.900000     12.958813  \n",
       "\n",
       "[154235 rows x 7 columns]"
      ]
     },
     "execution_count": 20,
     "metadata": {},
     "output_type": "execute_result"
    }
   ],
   "source": [
    "from sklearn.linear_model import LinearRegression\n",
    "from sklearn.preprocessing import PolynomialFeatures\n",
    "\n",
    "\n",
    "polynomial_features= PolynomialFeatures(degree=3)\n",
    "\n",
    "\n",
    "df_selec_test = df_selec_test.dropna()\n",
    "\n",
    "x_poly = polynomial_features.fit_transform(df_selec_test)\n",
    "y_acc = model.predict(x_poly)\n",
    "\n",
    "df_test_sm = df_selec_test\n",
    "df_test_sm['total_amount'] = y_acc\n",
    "\n",
    "df_test_sm\n"
   ]
  },
  {
   "cell_type": "markdown",
   "id": "0974421a",
   "metadata": {
    "papermill": {
     "duration": 0.031633,
     "end_time": "2023-09-17T13:20:41.135304",
     "exception": false,
     "start_time": "2023-09-17T13:20:41.103671",
     "status": "completed"
    },
    "tags": []
   },
   "source": [
    "In conclusion, this machine learning notebook has provided a comprehensive exploration of feature selection and model evaluation, ultimately leading to the selection of a polynomial regression model as the most suitable choice for the given dataset.\n",
    "\n",
    "Throughout this analysis, we started by meticulously assessing various feature selection techniques to enhance the model's performance and mitigate overfitting. We then employed multiple linear regression models to predict the target variable, systematically evaluating their accuracy and performance.\n",
    "\n",
    "The critical evaluation of model performance, particularly the examination of RMSE (Root Mean Square Error) and R-squared (R^2), revealed that the polynomial regression model consistently outperformed other linear models. This was evidenced by its ability to minimize RMSE, indicating lower prediction errors, and maximize R^2, demonstrating a superior fit to the data."
   ]
  }
 ],
 "metadata": {
  "kernelspec": {
   "display_name": "Python 3 (ipykernel)",
   "language": "python",
   "name": "python3"
  },
  "language_info": {
   "codemirror_mode": {
    "name": "ipython",
    "version": 3
   },
   "file_extension": ".py",
   "mimetype": "text/x-python",
   "name": "python",
   "nbconvert_exporter": "python",
   "pygments_lexer": "ipython3",
   "version": "3.11.5"
  },
  "papermill": {
   "default_parameters": {},
   "duration": 118.232109,
   "end_time": "2023-09-17T13:20:41.974891",
   "environment_variables": {},
   "exception": null,
   "input_path": "__notebook__.ipynb",
   "output_path": "__notebook__.ipynb",
   "parameters": {},
   "start_time": "2023-09-17T13:18:43.742782",
   "version": "2.4.0"
  }
 },
 "nbformat": 4,
 "nbformat_minor": 5
}
